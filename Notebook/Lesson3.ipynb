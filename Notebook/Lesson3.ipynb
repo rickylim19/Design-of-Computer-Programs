{
 "cells": [
  {
   "cell_type": "markdown",
   "metadata": {},
   "source": [
    "# Tools\n",
    "\n"
   ]
  },
  {
   "cell_type": "markdown",
   "metadata": {},
   "source": [
    "## Regular Expression\n",
    "\n",
    "The way to define infinite set of words \n",
    "\n",
    "### Main characters in RE\n",
    "\n",
    "    *    a* -> '', a, aa, aa...    match zero or more occurances of a character that follows   \n",
    "    ?    a? -> '', a               match zero or one occurance of a character that follows\n",
    "    .    .  -> a, b, c, 7, !       match any single character except empty string and multicharacter string \n",
    "    ^    ^b -> ba, bb,..           match at the beginning of the character\n",
    "    $    a$ -> ba,                 match at the end of the character\n",
    "    "
   ]
  },
  {
   "cell_type": "code",
   "execution_count": 1,
   "metadata": {},
   "outputs": [
    {
     "data": {
      "text/plain": [
       "'test passes'"
      ]
     },
     "execution_count": 1,
     "output_type": "execute_result",
     "metadata": {}
    }
   ],
   "source": [
    "def search(pattern, text):\n",
    "    \"\"\"\n",
    "    Return True if pattern appears anywhere in the text\n",
    "    \"\"\"\n",
    "    if pattern.startswith('^'):\n",
    "        return match(pattern[1:], text)\n",
    "    else:\n",
    "        return match('.*' + pattern, text)\n",
    "    \n",
    "def match(pattern, text):\n",
    "    \"\"\"\n",
    "    Return True if pattern appears at the start of the text\n",
    "    \"\"\"\n",
    "    \n",
    "    if pattern == '':\n",
    "        return True\n",
    "    elif pattern == '$':\n",
    "        return (text == '')\n",
    "    elif len(pattern) > 1 and pattern[1] in '*?': #'a*!'\n",
    "        p, op, pat = pattern[0], pattern[1], pattern[2:]\n",
    "        if op == '*':\n",
    "            return match_star(p, pat, text)\n",
    "        elif op == '?':\n",
    "            if match1(p, text) and match(pat, text[1:]):\n",
    "                return True\n",
    "            else:\n",
    "                return match(pat, text)\n",
    "    else:\n",
    "        return (match1(pattern[0], text) and \n",
    "                match(pattern[1:], text[1:]))\n",
    "    \n",
    "def match1(p, text):\n",
    "    \"\"\"\n",
    "    Return True if first character of text matches pattern character p\n",
    "    \"\"\"\n",
    "    \n",
    "    if not text: return False\n",
    "    return p == '.' or p == text[0]\n",
    "\n",
    "def match_star(p, pattern, text):\n",
    "    \"\"\"\n",
    "    Return True if any number of char p, followed by pattern, matches text\n",
    "    \"\"\"\n",
    "    return (match(pattern, text) or\n",
    "            (match1(p, text) and \n",
    "             match_star(p, pattern, text[1:])))\n",
    "    \n",
    "    \n",
    "    \n",
    "def test():\n",
    "    assert search('baa*!', 'Hore said baaaaa!')\n",
    "    assert search('baa*!', 'hore said hbabbaba') == False\n",
    "    assert match('baa*!', 'Sheep said baaa!') == False\n",
    "    assert match('baa*!', 'baaaaa! said the sheep')\n",
    "    assert search('def', 'defghak')\n",
    "    assert search('def?', 'kakakdef')\n",
    "    assert search('^start', 'not the start') == False\n",
    "    assert match('a*b*c?', 'just anything')\n",
    "    assert match('x?', 'text')\n",
    "    assert match('text?', 'text')\n",
    "    assert match('text?', 'tex')\n",
    "    def words(text): return text.split()\n",
    "    assert all(match('aa*bb*cc*$', s) for s in words('abc aaabbccc aaaabcccc'))\n",
    "    assert all(search('^ab.*aca.*a$', s) for s in words('abracadabra abacaa'))\n",
    "    return 'test passes'\n",
    "\n",
    "test()"
   ]
  },
  {
   "cell_type": "code",
   "execution_count": 6,
   "metadata": {},
   "outputs": [
    {
     "name": "stdout",
     "output_type": "stream",
     "text": [
      "tests pass\n"
     ]
    }
   ],
   "source": [
    "#----------------\n",
    "# User Instructions\n",
    "#\n",
    "# The function, matchset, takes a pattern and a text as input\n",
    "# and returns a set of remainders. For example, if matchset \n",
    "# were called with the pattern star(lit(a)) and the text \n",
    "# 'aaab', matchset would return a set with elements \n",
    "# {'aaab', 'aab', 'ab', 'b'}, since a* can consume one, two\n",
    "# or all three of the a's in the text.\n",
    "#\n",
    "# Your job is to complete this function by filling in the \n",
    "# 'dot' and 'oneof' operators to return the correct set of \n",
    "# remainders.\n",
    "#\n",
    "# dot:   matches any character.\n",
    "# oneof: matches any of the characters in the string it is \n",
    "#        called with. oneof('abc') will match a or b or c.\n",
    "\n",
    "def matchset(pattern, text):\n",
    "    \"Match pattern at start of text; return a set of remainders of text.\"\n",
    "    op, x, y = components(pattern)\n",
    "    if 'lit' == op:\n",
    "        return set([text[len(x):]]) if text.startswith(x) else null\n",
    "    elif 'seq' == op:\n",
    "        return set(t2 for t1 in matchset(x, text) for t2 in matchset(y, t1))\n",
    "    elif 'alt' == op:\n",
    "        return matchset(x, text) | matchset(y, text)\n",
    "    elif 'dot' == op:\n",
    "        return set([text[1:]]) if text else null\n",
    "    elif 'oneof' == op:\n",
    "        return set([text[1:]]) if any([text.startswith(c) for c in x]) else null\n",
    "    elif 'eol' == op:\n",
    "        return set(['']) if text == '' else null\n",
    "    elif 'star' == op:\n",
    "        return (set([text]) |\n",
    "                set(t2 for t1 in matchset(x, text)\n",
    "                    for t2 in matchset(pattern, t1) if t1 != text))\n",
    "    else:\n",
    "        raise ValueError('unknown pattern: %s' % pattern)\n",
    "        \n",
    "null = frozenset()\n",
    "\n",
    "def components(pattern):\n",
    "    \"Return the op, x, and y arguments; x and y are None if missing.\"\n",
    "    x = pattern[1] if len(pattern) > 1 else None\n",
    "    y = pattern[2] if len(pattern) > 2 else None\n",
    "    return pattern[0], x, y\n",
    "   \n",
    "def test():\n",
    "    assert matchset(('lit', 'abc'), 'abcdef')            == set(['def'])\n",
    "    assert matchset(('seq', ('lit', 'hi '),\n",
    "                     ('lit', 'there ')), \n",
    "                   'hi there nice to meet you')          == set(['nice to meet you'])\n",
    "    assert matchset(('alt', ('lit', 'dog'), \n",
    "                    ('lit', 'cat')), 'dog and cat')      == set([' and cat'])\n",
    "    assert matchset(('dot',), 'am i missing something?') == set(['m i missing something?'])\n",
    "    assert matchset(('oneof', 'a'), 'aabc123')           == set(['abc123'])\n",
    "    assert matchset(('eol',),'')                         == set([''])\n",
    "    assert matchset(('eol',),'not end of line')          == frozenset([])\n",
    "    assert matchset(('star', ('lit', 'hey')), 'heyhey!') == set(['!', 'heyhey!', 'hey!'])\n",
    "    \n",
    "    return 'tests pass'\n",
    "\n",
    "print test()"
   ]
  },
  {
   "cell_type": "code",
   "execution_count": 5,
   "metadata": {},
   "outputs": [
    {
     "name": "stdout",
     "output_type": "stream",
     "text": [
      "tests pass\n"
     ]
    }
   ],
   "source": [
    "#---------------\n",
    "# User Instructions\n",
    "#\n",
    "# Fill out the API by completing the entries for alt, \n",
    "# star, plus, and eol.\n",
    "\n",
    "\n",
    "def lit(string):  return ('lit', string)\n",
    "def seq(x, y):    return ('seq', x, y)\n",
    "def alt(x, y):    return ('alt', x, y)\n",
    "def star(x):      return ('star', x)\n",
    "def plus(x):      return ('seq', x, star(x))\n",
    "def opt(x):       return alt(lit(''), x) #opt(x) means that x is optional\n",
    "def oneof(chars): return ('oneof', tuple(chars))\n",
    "dot = ('dot',)\n",
    "eol = ('eol', '')\n",
    "\n",
    "def test():\n",
    "    assert lit('abc')         == ('lit', 'abc')\n",
    "    assert seq(('lit', 'a'), \n",
    "               ('lit', 'b'))  == ('seq', ('lit', 'a'), ('lit', 'b'))\n",
    "    assert alt(('lit', 'a'), \n",
    "               ('lit', 'b'))  == ('alt', ('lit', 'a'), ('lit', 'b'))\n",
    "    assert star(('lit', 'a')) == ('star', ('lit', 'a'))\n",
    "    assert plus(('lit', 'c')) == ('seq', ('lit', 'c'), \n",
    "                                  ('star', ('lit', 'c')))\n",
    "    assert opt(('lit', 'x'))  == ('alt', ('lit', ''), ('lit', 'x'))\n",
    "    assert oneof('abc')       == ('oneof', ('a', 'b', 'c'))\n",
    "    return 'tests pass'\n",
    "\n",
    "print test()"
   ]
  },
  {
   "cell_type": "code",
   "execution_count": 5,
   "metadata": {},
   "outputs": [
    {
     "name": "stdout",
     "output_type": "stream",
     "text": [
      "tests pass\n"
     ]
    }
   ],
   "source": [
    "#---------------\n",
    "# User Instructions\n",
    "#\n",
    "# Complete the search and match functions. Match should\n",
    "# match a pattern only at the start of the text. Search\n",
    "# should match anywhere in the text.\n",
    "\n",
    "def search(pattern, text):\n",
    "    \"Match pattern anywhere in text; return longest earliest match or None.\"\n",
    "    for i in range(len(text)):\n",
    "        m = match(pattern, text[i:])\n",
    "        if m: \n",
    "            return m\n",
    "        \n",
    "def match(pattern, text):\n",
    "    \"Match pattern against start of text; return longest match found or None.\"\n",
    "    remainders = matchset(pattern, text)\n",
    "    if remainders:\n",
    "        shortest = min(remainders, key=len)\n",
    "        return text[:len(text)-len(shortest)]\n",
    "    \n",
    "def components(pattern):\n",
    "    \"Return the op, x, and y arguments; x and y are None if missing.\"\n",
    "    x = pattern[1] if len(pattern) > 1 else None\n",
    "    y = pattern[2] if len(pattern) > 2 else None\n",
    "    return pattern[0], x, y\n",
    "\n",
    "def matchset(pattern, text):\n",
    "    \"Match pattern at start of text; return a set of remainders of text.\"\n",
    "    op, x, y = components(pattern)\n",
    "    if 'lit' == op:\n",
    "        return set([text[len(x):]]) if text.startswith(x) else null\n",
    "    elif 'seq' == op:\n",
    "        return set(t2 for t1 in matchset(x, text) for t2 in matchset(y, t1))\n",
    "    elif 'alt' == op:\n",
    "        return matchset(x, text) | matchset(y, text)\n",
    "    elif 'dot' == op:\n",
    "        return set([text[1:]]) if text else null\n",
    "    elif 'oneof' == op:\n",
    "        return set([text[1:]]) if text.startswith(x) else null\n",
    "    elif 'eol' == op:\n",
    "        return set(['']) if text == '' else null\n",
    "    elif 'star' == op:\n",
    "        return (set([text]) |\n",
    "                set(t2 for t1 in matchset(x, text)\n",
    "                    for t2 in matchset(pattern, t1) if t1 != text))\n",
    "    else:\n",
    "        raise ValueError('unknown pattern: %s' % pattern)\n",
    "    \n",
    "null = frozenset()\n",
    "\n",
    "def lit(string):  return ('lit', string)\n",
    "def seq(x, y):    return ('seq', x, y)\n",
    "def alt(x, y):    return ('alt', x, y)\n",
    "def star(x):      return ('star', x)\n",
    "def plus(x):      return seq(x, star(x))\n",
    "def opt(x):       return alt(lit(''), x)\n",
    "def oneof(chars): return ('oneof', tuple(chars))\n",
    "dot = ('dot',)\n",
    "eol = ('eol',)\n",
    "\n",
    "def test():\n",
    "    assert match(('star', ('lit', 'a')),'aaabcd') == 'aaa'\n",
    "    assert match(('alt', ('lit', 'b'), ('lit', 'c')), 'ab') == None\n",
    "    assert match(('alt', ('lit', 'b'), ('lit', 'a')), 'ab') == 'a'\n",
    "    assert search(('alt', ('lit', 'b'), ('lit', 'c')), 'ab') == 'b'\n",
    "    return 'tests pass'\n",
    "\n",
    "print test()"
   ]
  },
  {
   "cell_type": "markdown",
   "metadata": {},
   "source": [
    "# Simple compiler"
   ]
  },
  {
   "cell_type": "code",
   "execution_count": 7,
   "metadata": {},
   "outputs": [
    {
     "name": "stdout",
     "output_type": "stream",
     "text": [
      "tests pass\n"
     ]
    }
   ],
   "source": [
    "def match(pattern, text):\n",
    "    \"Match pattern against start of text; return longest match found or None.\"\n",
    "    remainders = pattern(text)\n",
    "    if remainders:\n",
    "        shortest = min(remainders, key=len)\n",
    "        return text[:len(text)-len(shortest)]\n",
    "    \n",
    "def lit(s): return lambda t: set([t[len(s):]]) if t.startswith(s) else null\n",
    "def seq(x, y): return lambda t: set().union(*map(y, x(t)))\n",
    "def alt(x, y): return lambda t: x(t) | y(t)\n",
    "def oneof(chars): return lambda t: set([t[1:]]) if (t and t[0] in chars) else null\n",
    "dot = lambda t: set([t[1:]]) if t else null\n",
    "eol = lambda t: set(['']) if t == '' else null\n",
    "def star(x): return lambda t: (set([t]) | \n",
    "                               set(t2 for t1 in x(t) if t1 != t\n",
    "                                   for t2 in star(x)(t1)))\n",
    "\n",
    "null = frozenset([])\n",
    "\n",
    "def test():\n",
    "    assert match(star(lit('a')), 'aaaaabbbaa') == 'aaaaa'\n",
    "    assert match(lit('hello'), 'hello how are you?') == 'hello'\n",
    "    assert match(lit('x'), 'hello how are you?') == None\n",
    "    assert match(oneof('xyz'), 'x**2 + y**2 = r**2') == 'x'\n",
    "    assert match(oneof('xyz'), '   x is here!') == None\n",
    "    return 'tests pass'\n",
    "\n",
    "print test()"
   ]
  },
  {
   "cell_type": "markdown",
   "metadata": {},
   "source": [
    "# Genseq"
   ]
  },
  {
   "cell_type": "code",
   "execution_count": null,
   "metadata": {},
   "outputs": [],
   "source": [
    "def genseq(x, y, Ns, startx=0):\n",
    "    \"\"\"\n",
    "    Set of matches to xy whose total len is in Ns, with x-match's length in Ns_x\n",
    "    # Tricky part: x+ is defined as: x+ = x x*\n",
    "    # To stop the recursion, the first x must generate at least 1 char,\n",
    "    # and then the recursive x* has that many fewer characters.\n",
    "    # we use startx=1 to say that x must match at least 1 character\n",
    "    \"\"\"\n",
    "    \n",
    "    if not Ns:\n",
    "        return null\n",
    "    xmatches = x(set(range(startx, max(Ns)+1)))\n",
    "    Ns_x = set(len(m) for m in xmatches)\n",
    "    Ns_y = set(n-m for n in Ns for m in Ns_x if n-m > 0)\n",
    "    ymatches = y(Ns_y)\n",
    "    return set(m1 + m2\n",
    "               for m1 in xmatches for m2 in ymatches\n",
    "               if len(m1+m2) in Ns)"
   ]
  },
  {
   "cell_type": "markdown",
   "metadata": {},
   "source": [
    "# Decorator"
   ]
  },
  {
   "cell_type": "code",
   "execution_count": 48,
   "metadata": {},
   "outputs": [
    {
     "data": {
      "text/plain": [
       "('seq', 'a', ('seq', 'b', ('seq', 'c', 'd')))"
      ]
     },
     "execution_count": 48,
     "output_type": "execute_result",
     "metadata": {}
    }
   ],
   "source": [
    "# N array function\n",
    "\n",
    "def n_ary(f):\n",
    "    \"\"\"Given binary function f(x, y), return an n_ary function such\n",
    "    that f(x, y, z) = f(x, f(y,z)), etc. Also allow f(x) = x.\"\"\"\n",
    "    def n_ary_f(x, *args):\n",
    "        return x if not args else f(x, n_ary_f(*args)) \n",
    "    return n_ary_f\n",
    "\n",
    "@n_ary\n",
    "def seq(x, y):\n",
    "    return ('seq', x, y)\n",
    "\n",
    "seq('a', 'b', 'c', 'd')"
   ]
  },
  {
   "cell_type": "markdown",
   "metadata": {},
   "source": [
    "# Decorater wrapper"
   ]
  },
  {
   "cell_type": "code",
   "execution_count": 9,
   "metadata": {},
   "outputs": [],
   "source": [
    "from functools import update_wrapper\n",
    "\n",
    "def decorator(d):\n",
    "    \"Make function d a decorator: d wraps a function fn.\"\n",
    "    def _d(fn):\n",
    "        return update_wrapper(d(fn), fn)\n",
    "    update_wrapper(_d, d)\n",
    "    return _d\n",
    "\n",
    "@decorator\n",
    "def n_ary(f):\n",
    "    \"\"\"Given binary function f(x, y), return an n_ary function such\n",
    "    that f(x, y, z) = f(x, f(y,z)), etc. Also allow f(x) = x.\"\"\"\n",
    "        \n",
    "    def n_ary_f(x, *args):\n",
    "        return x if not args else f(x, n_ary_f(*args))\n",
    "    return n_ary_f"
   ]
  },
  {
   "cell_type": "markdown",
   "metadata": {},
   "source": [
    "# Cache management"
   ]
  },
  {
   "cell_type": "code",
   "execution_count": null,
   "metadata": {},
   "outputs": [],
   "source": [
    "@decorator\n",
    "def memo(f):\n",
    "    \"\"\"\n",
    "    Decorator that caches the return value for each call to f(args).\n",
    "    Then when called again with same args, we can just look it up.\n",
    "    \"\"\"\n",
    "    cache = {}\n",
    "    def _f(*args):\n",
    "        try:\n",
    "            return cache[args]\n",
    "        except KeyError:\n",
    "            cache[args] = result = f(*args)\n",
    "            return result\n",
    "        except TypeError:\n",
    "            # some elements of the args can't be a dict key\n",
    "            return f(args)\n",
    "    return _f"
   ]
  },
  {
   "cell_type": "markdown",
   "metadata": {},
   "source": [
    "# Trace tool"
   ]
  },
  {
   "cell_type": "code",
   "execution_count": 50,
   "metadata": {},
   "outputs": [
    {
     "name": "stdout",
     "output_type": "stream",
     "text": [
      "--> fib(6)\n   --> fib(5)\n      --> fib(4)\n         --> fib(3)\n            --> fib(2)\n               --> fib(1)\n               <-- fib(1) == 1\n               --> fib(0)\n               <-- fib(0) == 1\n            <-- fib(2) == 2\n            --> fib(1)\n            <-- fib(1) == 1\n         <-- fib(3) == 3\n         --> fib(2)\n            --> fib(1)\n            <-- fib(1) == 1\n            --> fib(0)\n            <-- fib(0) == 1\n         <-- fib(2) == 2\n      <-- fib(4) == 5\n      --> fib(3)\n         --> fib(2)\n            --> fib(1)\n            <-- fib(1) == 1\n            --> fib(0)\n            <-- fib(0) == 1\n         <-- fib(2) == 2\n         --> fib(1)\n         <-- fib(1) == 1\n      <-- fib(3) == 3\n   <-- fib(5) == 8\n   --> fib(4)\n      --> fib(3)\n         --> fib(2)\n            --> fib(1)\n            <-- fib(1) == 1\n            --> fib(0)\n            <-- fib(0) == 1\n         <-- fib(2) == 2\n         --> fib(1)\n         <-- fib(1) == 1\n      <-- fib(3) == 3\n      --> fib(2)\n         --> fib(1)\n         <-- fib(1) == 1\n         --> fib(0)\n         <-- fib(0) == 1\n      <-- fib(2) == 2\n   <-- fib(4) == 5\n<-- fib(6) == 13\n"
     ]
    },
    {
     "data": {
      "text/plain": [
       "13"
      ]
     },
     "execution_count": 50,
     "output_type": "execute_result",
     "metadata": {}
    }
   ],
   "source": [
    "# ---------------\n",
    "# User Instructions\n",
    "#\n",
    "# Modify the function, trace, so that when it is used\n",
    "# as a decorator it gives a trace as shown in the previous\n",
    "# video. You can test your function by applying the decorator\n",
    "# to the provided fibonnaci function.\n",
    "#\n",
    "# Note: Running this in the browser's IDE will not display\n",
    "# the indentations.\n",
    "\n",
    "from functools import update_wrapper\n",
    "\n",
    "\n",
    "def decorator(d):\n",
    "    \"Make function d a decorator: d wraps a function fn.\"\n",
    "    def _d(fn):\n",
    "        return update_wrapper(d(fn), fn)\n",
    "    update_wrapper(_d, d)\n",
    "    return _d\n",
    "\n",
    "@decorator\n",
    "def trace(f):\n",
    "    indent = '   '\n",
    "    def _f(*args):\n",
    "        signature = '%s(%s)' % (f.__name__, ', '.join(map(repr, args)))\n",
    "        print '%s--> %s' % (trace.level*indent, signature)\n",
    "        trace.level += 1\n",
    "        try:\n",
    "            result = f(*args)\n",
    "            print '%s<-- %s == %s' % ((trace.level-1)*indent, \n",
    "                                      signature, result)\n",
    "        finally:\n",
    "            trace.level -= 1\n",
    "            # your code here\n",
    "        return result # your code here\n",
    "    trace.level = 0\n",
    "    return _f\n",
    "\n",
    "@trace\n",
    "def fib(n):\n",
    "    if n == 0 or n == 1:\n",
    "        return 1\n",
    "    else:\n",
    "        return fib(n-1) + fib(n-2)\n",
    "\n",
    "fib(6) #running this in the browser's IDE  will not display the indentations!"
   ]
  },
  {
   "cell_type": "code",
   "execution_count": null,
   "metadata": {},
   "outputs": [],
   "source": [
    "def disabled(f): return f\n",
    "trace = disabled"
   ]
  }
 ],
 "metadata": {
  "kernelspec": {
   "display_name": "Python 2",
   "language": "python",
   "name": "python2"
  },
  "language_info": {
   "codemirror_mode": {
    "name": "ipython",
    "version": 2.0
   },
   "file_extension": ".py",
   "mimetype": "text/x-python",
   "name": "python",
   "nbconvert_exporter": "python",
   "pygments_lexer": "ipython2",
   "version": "2.7.10"
  }
 },
 "nbformat": 4,
 "nbformat_minor": 0
}