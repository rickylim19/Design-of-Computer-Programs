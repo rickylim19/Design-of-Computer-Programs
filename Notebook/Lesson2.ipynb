{
 "cells": [
  {
   "cell_type": "markdown",
   "metadata": {},
   "source": [
    "# Zebra Puzzle\n",
    "\n",
    "1 There are five houses.\n",
    "\n",
    "2 The Englishman lives in the red house.\n",
    "\n",
    "3 The Spaniard owns the dog.\n",
    "\n",
    "4 Coffee is drunk in the green house.\n",
    "\n",
    "5 The Ukrainian drinks tea.\n",
    "\n",
    "6 The green house is immediately to the right of the ivory house.\n",
    "\n",
    "7 The Old Gold smoker owns snails.\n",
    "\n",
    "8 Kools are smoked in the yellow house.\n",
    "\n",
    "9 Milk is drunk in the middle house.\n",
    "\n",
    "10 The Norwegian lives in the first house.\n",
    "\n",
    "11 The man who smokes Chesterfields lives in the house next to the man with the fox.\n",
    "\n",
    "12 Kools are smoked in a house next to the house where the horse is kept.\n",
    "\n",
    "13 The Lucky Strike smoker drinks orange juice.\n",
    "\n",
    "14 The Japanese smokes Parliaments.\n",
    "\n",
    "15 The Norwegian lives next to the blue house.\n",
    "\n",
    "*Who drinks water? Who owns the zebra?*\n",
    "\n",
    "Each house is painted a different color, and their inhabitants are of different nationalities, own different pets, drink different beverages and smoke different brands of American cigarettes."
   ]
  },
  {
   "cell_type": "markdown",
   "metadata": {},
   "source": [
    "## Concepts inventories\n",
    "\n",
    "- Houses:5 houses\n",
    "- Properties:\n",
    "\n",
    "    - Nationality\n",
    "    - Colours\n",
    "    - Pets\n",
    "    - Drinks\n",
    "    - Smokes\n",
    "\n",
    "- Assignment: e.g Red is assigned to house no.2\n",
    "- Locations: First, middle houses, next to, immediate right"
   ]
  },
  {
   "cell_type": "code",
   "execution_count": 1,
   "metadata": {
    "collapsed": false
   },
   "outputs": [],
   "source": [
    "import itertools\n",
    "\n",
    "houses = [1, 2, 3, 4, 5]\n",
    "\n",
    "def imright(h1, h2):\n",
    "    \"\"\"\n",
    "    House h1 is immediately right to h2\n",
    "    \"\"\"\n",
    "    return h1-h2 == 1\n",
    "\n",
    "def nextto(h1, h2):\n",
    "    \"\"\"\n",
    "    Two houses are next to each other if they differ by 1\n",
    "    \"\"\"\n",
    "    return abs(h1-h2) == 1\n",
    "\n",
    "def zebra_puzzle():\n",
    "    \"\"\"\n",
    "    Return a tuple (WATER, ZEBRA) indicating their house numbers \n",
    "    \"\"\"\n",
    "    houses = first, _, middle, _, _ = [1, 2, 3, 4, 5] #1\n",
    "    orderings = list(itertools.permutations(houses))\n",
    "    return next((WATER, ZEBRA)\n",
    "            for (red, green, ivory, yellow, blue) in orderings\n",
    "            if imright(green, ivory)       #6\n",
    "            for (Englishman, Spaniard, Ukranian, Japanese, Norwegian) in orderings\n",
    "            if Englishman is red           #2\n",
    "            if Norwegian is first          #10\n",
    "            if nextto(Norwegian,blue)      #15\n",
    "            for (coffee, tea, milk, oj, WATER) in orderings\n",
    "            if coffee is green             #4\n",
    "            if Ukranian is tea             #5\n",
    "            if milk is middle              #9\n",
    "            for (OldGold, Kools, Chesterfields, LuckyStrike, Parliaments) in orderings\n",
    "            if Kools is yellow             #8\n",
    "            if LuckyStrike is oj           #13\n",
    "            if Japanese is Parliaments     #14\n",
    "            for (dog, snails, fox, horse, ZEBRA) in orderings\n",
    "            if Spaniard is dog             #3\n",
    "            if OldGold is snails           #7\n",
    "            if nextto(Chesterfields, fox)  #11\n",
    "            if nextto(Kools, horse)        #12\n",
    "    )"
   ]
  },
  {
   "cell_type": "code",
   "execution_count": 2,
   "metadata": {
    "collapsed": false
   },
   "outputs": [
    {
     "data": {
      "text/plain": [
       "(1, 5)"
      ]
     },
     "execution_count": 2,
     "metadata": {},
     "output_type": "execute_result"
    }
   ],
   "source": [
    "zebra_puzzle()"
   ]
  },
  {
   "cell_type": "code",
   "execution_count": 3,
   "metadata": {
    "collapsed": false
   },
   "outputs": [
    {
     "data": {
      "text/plain": [
       "(0.0003330000000000277, 0.00044905099999999963, 0.0009619999999999074)"
      ]
     },
     "execution_count": 3,
     "metadata": {},
     "output_type": "execute_result"
    }
   ],
   "source": [
    "import time\n",
    "\n",
    "def timedcall(fn, *args):\n",
    "    \"\"\"\n",
    "    Return the time when function finally returns\n",
    "    \"\"\"\n",
    "    t0 = time.clock()\n",
    "    result = fn(*args)\n",
    "    t1 = time.clock()\n",
    "    return t1-t0, result\n",
    "\n",
    "def timedcalls(n, fn, *args):\n",
    "    \"\"\"\n",
    "    Return the min, avg, max of the time when function is being called n-times\n",
    "    \"\"\"\n",
    "    times = [timedcall(fn, *args)[0] for i in xrange(n)]\n",
    "    return min(times), average(times), max(times)\n",
    "\n",
    "def average(numbers):\n",
    "    \"\"\"\n",
    "    Return the arithmetic mean \n",
    "    \"\"\"\n",
    "    return sum(numbers)/float(len(numbers))\n",
    "\n",
    "timedcalls(1000,zebra_puzzle)"
   ]
  },
  {
   "cell_type": "code",
   "execution_count": 4,
   "metadata": {
    "collapsed": false
   },
   "outputs": [
    {
     "data": {
      "text/plain": [
       "(0.00033399999999983443, 0.0003920076437615132, 0.0012710000000000221)"
      ]
     },
     "execution_count": 4,
     "metadata": {},
     "output_type": "execute_result"
    }
   ],
   "source": [
    "def timedcalls(n, fn, *args):\n",
    "    \"\"\"Call fn(*args) repeatedly: n times if n is an int, or up to\n",
    "    n seconds if n is a float; return the min, avg, and max time\"\"\"\n",
    "    if isinstance(n, int):\n",
    "        times = [timedcall(fn, *args)[0] for i in xrange(n)]\n",
    "    else:\n",
    "        times = []\n",
    "        while sum(times) < n:\n",
    "            times.append(timedcall(fn, *args)[0])\n",
    "    return min(times), average(times), max(times)\n",
    "\n",
    "timedcalls(10.0, zebra_puzzle)"
   ]
  },
  {
   "cell_type": "markdown",
   "metadata": {},
   "source": [
    "# Aspect-oriented programming\n",
    "\n",
    "Separting correctness, efficiency, and debugging\n",
    "\n",
    "- Concepts inventory\n",
    "- refine ideas\n",
    "- simple implementation\n",
    "- back envelope calculation\n",
    "- refining code"
   ]
  },
  {
   "cell_type": "code",
   "execution_count": 5,
   "metadata": {
    "collapsed": false
   },
   "outputs": [],
   "source": [
    "# Generator function\n",
    "\n",
    "def ints(start, end = None):\n",
    "    i = start\n",
    "    while i <= end or end is None:\n",
    "        yield i\n",
    "        i = i + 1\n",
    "        \n",
    "\n",
    "def all_ints():\n",
    "    \"Generate integers in the order 0, +1, -1, +2, -2, +3, -3, ...\"\n",
    "    # Your code here.\n",
    "    \n",
    "    yield 0\n",
    "    for i in ints(1):\n",
    "        yield +i\n",
    "        yield -i"
   ]
  },
  {
   "cell_type": "code",
   "execution_count": 6,
   "metadata": {
    "collapsed": false
   },
   "outputs": [
    {
     "data": {
      "text/plain": [
       "2"
      ]
     },
     "execution_count": 6,
     "metadata": {},
     "output_type": "execute_result"
    }
   ],
   "source": [
    "test1 = all_ints()\n",
    "next(test1)\n",
    "next(test1)\n",
    "next(test1)\n",
    "next(test1)"
   ]
  },
  {
   "cell_type": "code",
   "execution_count": 7,
   "metadata": {
    "collapsed": false
   },
   "outputs": [],
   "source": [
    "## The Truth about For Clause\n",
    "\n",
    "# for x in items:\n",
    "#    print x\n",
    "#\n",
    "# it = iter(items)\n",
    "# try:\n",
    "#    while True:\n",
    "#        x = next(it)\n",
    "#        print x\n",
    "# except StopIteration: pass"
   ]
  },
  {
   "cell_type": "markdown",
   "metadata": {},
   "source": [
    "# Debugging tool"
   ]
  },
  {
   "cell_type": "code",
   "execution_count": 8,
   "metadata": {
    "collapsed": false
   },
   "outputs": [
    {
     "name": "stdout",
     "output_type": "stream",
     "text": [
      "zebra_puzzle_c got (1, 5) with    22 iters over    2429 items\n"
     ]
    }
   ],
   "source": [
    "def c(sequence):\n",
    "    \"\"\"\n",
    "    Generate items in sequence; keeping counts as we go\n",
    "    c.starts is the number of sequences started\n",
    "    c.items is the number of items generated\n",
    "    \"\"\"\n",
    "    c.starts += 1\n",
    "    for item in sequence:\n",
    "        c.items += 1\n",
    "        yield item\n",
    "        \n",
    "def zebra_puzzle_c():\n",
    "    \"\"\"\n",
    "    Return a tuple (WATER, ZEBRA) indicating their house numbers \n",
    "    \"\"\"\n",
    "    houses = first, _, middle, _, _ = [1, 2, 3, 4, 5] #1\n",
    "    orderings = list(itertools.permutations(houses))\n",
    "    return next((WATER, ZEBRA)\n",
    "            for (red, green, ivory, yellow, blue) in c(orderings)\n",
    "            if imright(green, ivory)       #6\n",
    "            for (Englishman, Spaniard, Ukranian, Japanese, Norwegian) in c(orderings)\n",
    "            if Englishman is red           #2\n",
    "            if Norwegian is first          #10\n",
    "            if nextto(Norwegian,blue)      #15\n",
    "            for (coffee, tea, milk, oj, WATER) in orderings\n",
    "            if coffee is green             #4\n",
    "            if Ukranian is tea             #5\n",
    "            if milk is middle              #9\n",
    "            for (OldGold, Kools, Chesterfields, LuckyStrike, Parliaments) in c(orderings)\n",
    "            if Kools is yellow             #8\n",
    "            if LuckyStrike is oj           #13\n",
    "            if Japanese is Parliaments     #14\n",
    "            for (dog, snails, fox, horse, ZEBRA) in c(orderings)\n",
    "            if Spaniard is dog             #3\n",
    "            if OldGold is snails           #7\n",
    "            if nextto(Chesterfields, fox)  #11\n",
    "            if nextto(Kools, horse)        #12      \n",
    "    )\n",
    "\n",
    "def instrument_fn(fn, *args):\n",
    "    c.starts, c.items = 0, 0\n",
    "    result = fn(*args)\n",
    "    print \"%s got %s with %5d iters over %7d items\" % (fn.__name__, result, c.starts, c.items)\n",
    "    \n",
    "instrument_fn(zebra_puzzle_c)"
   ]
  },
  {
   "cell_type": "markdown",
   "metadata": {},
   "source": [
    "## Cryptarithmatic\n",
    "\n",
    "ODD + ODD = EVEN, substitute into digits\n",
    "\n",
    "### Approach\n",
    "\n",
    "- fill-in with all permutations, e.g: \n",
    "\n",
    "        'ODD+ODD==EVEN'\n",
    "        '122+122==3435'\n",
    "\n",
    "- eval == TRUE \n",
    "\n",
    "### Inventory\n",
    "\n",
    "- Equations\n",
    "\n",
    "    - Original: with alphabets `-> str`\n",
    "    - Filled-in: with digit `-> str`\n",
    " \n",
    "- Letters `-> 'D' or one string letter`\n",
    "- Digits `-> '3' or one string digit` \n",
    "- Assignments `Letters -> Digits as table 'D' -> '3' in python used str.translate`\n",
    "- Evaluation `eval to evaluate string into an expression`\n",
    "\n",
    "        eval('2+2') -> 4\n",
    "        eval('2+2 == 3') -> False\n",
    "        \n",
    "#### Translation table\n",
    "    \n",
    "        import string\n",
    "        table = string.maketrans('ABC', '123')\n",
    "        f = 'A + B == C'\n",
    "        f.translate(table) -> '1 + 2 == 3'\n",
    "        eval(f.translate(table)) -> True\n",
    "        "
   ]
  },
  {
   "cell_type": "code",
   "execution_count": 9,
   "metadata": {
    "collapsed": false
   },
   "outputs": [
    {
     "name": "stdout",
     "output_type": "stream",
     "text": [
      "\n",
      "              TWO + TWO == FOUR\n",
      "0.2005 sec:  734 + 734 == 1468\n",
      "\n",
      "              A**2 + B**2 == C**2\n",
      "0.0058 sec:  3**2 + 4**2 == 5**2\n",
      "\n",
      "              X/X == X\n",
      "0.0001 sec:  1/1 == 1\n",
      "\n",
      "              GLITTERS is not GOLD\n",
      "0.0000 sec:  24388076 is not 2541\n",
      "\n",
      "              sum(range(AA)) == BB\n",
      "0.0002 sec:  sum(range(11)) == 55\n",
      "\n",
      "              ODD + ODD == EVEN\n",
      "0.0028 sec:  655 + 655 == 1310\n",
      "\n",
      "              PLUTO not in set([PLANETS])\n",
      "0.0001 sec:  52783 not in set([5204186])\n",
      "\n",
      "              ONE < TWO < THREE\n",
      "0.0001 sec:  230 < 562 < 51400\n",
      "0.2111 tot.\n"
     ]
    }
   ],
   "source": [
    "# Write a function, solve(formula) that solves cryptarithmetic puzzles.\n",
    "# The input should be a formula like 'ODD + ODD == EVEN', and the \n",
    "# output should be a string with the digits filled in, or None if the\n",
    "# problem is not solvable.\n",
    "\n",
    "import string, re\n",
    "import itertools\n",
    "from __future__ import division\n",
    "import time\n",
    "\n",
    "def solve(formula):\n",
    "    \"\"\"\n",
    "    Given a formula like 'ODD + ODD == EVEN', fill in digits to solve it.\n",
    "    Input formula is a string; output is a digit-filled-in string or None.\n",
    "    \"\"\"\n",
    "    for f in fill_in(formula):\n",
    "        if valid(f):\n",
    "            #print f\n",
    "            return f\n",
    "\n",
    "def fill_in(formula):\n",
    "    \"\"\"\n",
    "    Generate all possible fillings-in of letters in formula with digits.\n",
    "    \"\"\"\n",
    "\n",
    "    letters = ''.join(set(re.findall(r'[A-Z]', formula)))\n",
    "    for d in itertools.permutations('0123456789', len(letters)):\n",
    "        table = string.maketrans(letters, ''.join(d))\n",
    "        yield formula.translate(table)\n",
    "    \n",
    "    \n",
    "def valid(f):\n",
    "    \"\"\"\n",
    "    Formula is valid iff it has no numbers with leading zero, and evals true\n",
    "    \"\"\"\n",
    "    try:\n",
    "        return not re.search(r'\\b0[0-9]', f) and eval(f) is True\n",
    "    except ArithmeticError:\n",
    "        return False\n",
    "    \n",
    "examples = \"\"\"TWO + TWO == FOUR\n",
    "A**2 + B**2 == C**2\n",
    "X/X == X\n",
    "GLITTERS is not GOLD\n",
    "sum(range(AA)) == BB\n",
    "ODD + ODD == EVEN\n",
    "PLUTO not in set([PLANETS])\n",
    "ONE < TWO < THREE\"\"\".splitlines()\n",
    "\n",
    "\n",
    "def test():\n",
    "    t0 = time.clock()\n",
    "    for example in examples:\n",
    "        print;\n",
    "        print 13*\" \", example\n",
    "        print \"%6.4f sec:  %s\" % timedcall(solve, example)\n",
    "    print \"%6.4f tot.\" % (time.clock()-t0)\n",
    "    #assert solve('ODD+ODD==EVEN') == '655+655==1310'\n",
    "    #print \"test passed\"\n",
    "    \n",
    "test()"
   ]
  },
  {
   "cell_type": "markdown",
   "metadata": {},
   "source": [
    "## Profiling\n",
    "\n",
    "        python -m cProfile <script.py> # command-line\n",
    "        \n",
    "        import cProfile\n",
    "        cProfile.run('test()')\n",
    "        "
   ]
  },
  {
   "cell_type": "code",
   "execution_count": 10,
   "metadata": {
    "collapsed": false
   },
   "outputs": [
    {
     "name": "stdout",
     "output_type": "stream",
     "text": [
      "\n",
      "              TWO + TWO == FOUR\n",
      "0.2454 sec:  734 + 734 == 1468\n",
      "\n",
      "              A**2 + B**2 == C**2\n",
      "0.0084 sec:  3**2 + 4**2 == 5**2\n",
      "\n",
      "              X/X == X\n",
      "0.0001 sec:  1/1 == 1\n",
      "\n",
      "              GLITTERS is not GOLD\n",
      "0.0000 sec:  24388076 is not 2541\n",
      "\n",
      "              sum(range(AA)) == BB\n",
      "0.0004 sec:  sum(range(11)) == 55\n",
      "\n",
      "              ODD + ODD == EVEN\n",
      "0.0049 sec:  655 + 655 == 1310\n",
      "\n",
      "              PLUTO not in set([PLANETS])\n",
      "0.0001 sec:  52783 not in set([5204186])\n",
      "\n",
      "              ONE < TWO < THREE\n",
      "0.0001 sec:  230 < 562 < 51400\n",
      "0.2610 tot.\n",
      "         182983 function calls in 0.278 seconds\n",
      "\n",
      "   Ordered by: standard name\n",
      "\n",
      "   ncalls  tottime  percall  cumtime  percall filename:lineno(function)\n",
      "        8    0.000    0.000    0.279    0.035 <ipython-input-3-8bcbe7bdbd73>:3(timedcall)\n",
      "        8    0.014    0.002    0.279    0.035 <ipython-input-9-b5a678ae784e>:11(solve)\n",
      "    21988    0.030    0.000    0.056    0.000 <ipython-input-9-b5a678ae784e>:21(fill_in)\n",
      "    21980    0.020    0.000    0.208    0.000 <ipython-input-9-b5a678ae784e>:32(valid)\n",
      "        1    0.000    0.000    0.280    0.280 <ipython-input-9-b5a678ae784e>:51(test)\n",
      "        1    0.000    0.000    0.000    0.000 <string>:1(<module>)\n",
      "        4    0.000    0.000    0.000    0.000 __init__.py:193(dumps)\n",
      "        1    0.000    0.000    0.000    0.000 attrsettr.py:35(__getattr__)\n",
      "        4    0.000    0.000    0.000    0.000 encoder.py:101(__init__)\n",
      "        4    0.000    0.000    0.000    0.000 encoder.py:186(encode)\n",
      "        4    0.000    0.000    0.000    0.000 encoder.py:212(iterencode)\n",
      "       26    0.000    0.000    0.000    0.000 encoder.py:33(encode_basestring)\n",
      "        2    0.000    0.000    0.000    0.000 encoder.py:37(replace)\n",
      "        1    0.000    0.000    0.000    0.000 hmac.py:100(_current)\n",
      "        1    0.000    0.000    0.000    0.000 hmac.py:119(hexdigest)\n",
      "        1    0.000    0.000    0.000    0.000 hmac.py:30(__init__)\n",
      "        4    0.000    0.000    0.000    0.000 hmac.py:83(update)\n",
      "        1    0.000    0.000    0.000    0.000 hmac.py:88(copy)\n",
      "       59    0.000    0.000    0.000    0.000 iostream.py:102(_check_mp_mode)\n",
      "        1    0.000    0.000    0.000    0.000 iostream.py:123(_flush_from_subprocesses)\n",
      "        1    0.000    0.000    0.001    0.001 iostream.py:151(flush)\n",
      "       58    0.000    0.000    0.001    0.000 iostream.py:207(write)\n",
      "        1    0.000    0.000    0.000    0.000 iostream.py:238(_flush_buffer)\n",
      "        1    0.000    0.000    0.000    0.000 iostream.py:247(_new_buffer)\n",
      "       60    0.000    0.000    0.000    0.000 iostream.py:93(_is_master_process)\n",
      "        1    0.000    0.000    0.000    0.000 iostream.py:96(_is_master_thread)\n",
      "        4    0.000    0.000    0.000    0.000 jsonapi.py:31(dumps)\n",
      "        1    0.000    0.000    0.000    0.000 jsonutil.py:102(date_default)\n",
      "        1    0.000    0.000    0.000    0.000 poll.py:77(poll)\n",
      "        1    0.000    0.000    0.000    0.000 py3compat.py:11(no_code)\n",
      "    21980    0.019    0.000    0.080    0.000 re.py:143(search)\n",
      "        8    0.000    0.000    0.000    0.000 re.py:173(findall)\n",
      "    21988    0.034    0.000    0.034    0.000 re.py:230(_compile)\n",
      "        1    0.000    0.000    0.000    0.000 session.py:195(msg_header)\n",
      "        1    0.000    0.000    0.000    0.000 session.py:200(extract_header)\n",
      "        1    0.000    0.000    0.000    0.000 session.py:441(msg_id)\n",
      "        1    0.000    0.000    0.000    0.000 session.py:493(msg_header)\n",
      "        1    0.000    0.000    0.000    0.000 session.py:496(msg)\n",
      "        1    0.000    0.000    0.000    0.000 session.py:515(sign)\n",
      "        1    0.000    0.000    0.000    0.000 session.py:530(serialize)\n",
      "        1    0.000    0.000    0.000    0.000 session.py:589(send)\n",
      "        4    0.000    0.000    0.000    0.000 session.py:84(<lambda>)\n",
      "        1    0.000    0.000    0.000    0.000 socket.py:289(send_multipart)\n",
      "        1    0.000    0.000    0.000    0.000 threading.py:1152(currentThread)\n",
      "        1    0.000    0.000    0.000    0.000 threading.py:983(ident)\n",
      "       13    0.000    0.000    0.000    0.000 traitlets.py:395(__get__)\n",
      "       58    0.000    0.000    0.000    0.000 utf_8.py:15(decode)\n",
      "        1    0.000    0.000    0.000    0.000 uuid.py:101(__init__)\n",
      "        1    0.000    0.000    0.000    0.000 uuid.py:197(__str__)\n",
      "        1    0.000    0.000    0.000    0.000 uuid.py:579(uuid4)\n",
      "       58    0.000    0.000    0.000    0.000 {_codecs.utf_8_decode}\n",
      "        1    0.000    0.000    0.000    0.000 {built-in method now}\n",
      "     6260    0.106    0.000    0.109    0.000 {eval}\n",
      "        1    0.000    0.000    0.000    0.000 {getattr}\n",
      "        1    0.000    0.000    0.000    0.000 {hasattr}\n",
      "       84    0.000    0.000    0.000    0.000 {isinstance}\n",
      "       16    0.000    0.000    0.000    0.000 {len}\n",
      "        1    0.000    0.000    0.000    0.000 {locals}\n",
      "        1    0.000    0.000    0.000    0.000 {map}\n",
      "        1    0.000    0.000    0.000    0.000 {max}\n",
      "        3    0.000    0.000    0.000    0.000 {method 'append' of 'list' objects}\n",
      "        1    0.000    0.000    0.000    0.000 {method 'close' of '_io.StringIO' objects}\n",
      "        3    0.000    0.000    0.000    0.000 {method 'copy' of '_hashlib.HASH' objects}\n",
      "        1    0.000    0.000    0.000    0.000 {method 'copy' of 'dict' objects}\n",
      "        1    0.000    0.000    0.000    0.000 {method 'count' of 'list' objects}\n",
      "       58    0.000    0.000    0.000    0.000 {method 'decode' of 'str' objects}\n",
      "        1    0.000    0.000    0.000    0.000 {method 'digest' of '_hashlib.HASH' objects}\n",
      "        1    0.000    0.000    0.000    0.000 {method 'disable' of '_lsprof.Profiler' objects}\n",
      "        3    0.000    0.000    0.000    0.000 {method 'encode' of 'unicode' objects}\n",
      "        2    0.000    0.000    0.000    0.000 {method 'extend' of 'list' objects}\n",
      "        8    0.000    0.000    0.000    0.000 {method 'findall' of '_sre.SRE_Pattern' objects}\n",
      "        1    0.000    0.000    0.000    0.000 {method 'get' of 'dict' objects}\n",
      "        1    0.000    0.000    0.000    0.000 {method 'getvalue' of '_io.StringIO' objects}\n",
      "        2    0.000    0.000    0.000    0.000 {method 'group' of '_sre.SRE_Match' objects}\n",
      "        1    0.000    0.000    0.000    0.000 {method 'hexdigest' of '_hashlib.HASH' objects}\n",
      "        1    0.000    0.000    0.000    0.000 {method 'isoformat' of 'datetime.datetime' objects}\n",
      "    21992    0.007    0.000    0.007    0.000 {method 'join' of 'str' objects}\n",
      "    21980    0.027    0.000    0.027    0.000 {method 'search' of '_sre.SRE_Pattern' objects}\n",
      "        7    0.000    0.000    0.000    0.000 {method 'send' of 'zmq.backend.cython.socket.Socket' objects}\n",
      "       26    0.000    0.000    0.000    0.000 {method 'sub' of '_sre.SRE_Pattern' objects}\n",
      "    21980    0.005    0.000    0.005    0.000 {method 'translate' of 'str' objects}\n",
      "        5    0.000    0.000    0.000    0.000 {method 'update' of '_hashlib.HASH' objects}\n",
      "        1    0.000    0.000    0.000    0.000 {method 'upper' of 'str' objects}\n",
      "       58    0.000    0.000    0.000    0.000 {method 'write' of '_io.StringIO' objects}\n",
      "       61    0.000    0.000    0.000    0.000 {posix.getpid}\n",
      "        1    0.000    0.000    0.000    0.000 {posix.urandom}\n",
      "        5    0.000    0.000    0.000    0.000 {range}\n",
      "    21980    0.013    0.000    0.013    0.000 {strop.maketrans}\n",
      "        4    0.000    0.000    0.000    0.000 {sum}\n",
      "        1    0.000    0.000    0.000    0.000 {thread.get_ident}\n",
      "       18    0.000    0.000    0.000    0.000 {time.clock}\n",
      "       58    0.000    0.000    0.000    0.000 {time.time}\n",
      "        1    0.000    0.000    0.000    0.000 {zmq.backend.cython._poll.zmq_poll}\n",
      "\n",
      "\n"
     ]
    }
   ],
   "source": [
    "import cProfile\n",
    "cProfile.run('test()')"
   ]
  },
  {
   "cell_type": "markdown",
   "metadata": {},
   "source": [
    "### Diminishing return\n",
    "\n",
    "Focus on the code that takes so much time to make it more efficient\n",
    "\n",
    "In the profiling above, we realized that most of time was consumed by `eval` function. So we want to concentration on `eval`\n",
    "\n",
    "Note: `eval` is a built-in function. So one way to make it more efficient is to make fewer calls or easier calls (like divide and conquer paradigm)\n",
    "\n",
    "In the attempts to make fewer calls:\n",
    "\n",
    "- One big formula\n",
    "- fill in one digit, if not possible then skip\n",
    "- eval formula once, and make it as a function with parameters\n",
    "\n"
   ]
  },
  {
   "cell_type": "code",
   "execution_count": 11,
   "metadata": {
    "collapsed": false
   },
   "outputs": [
    {
     "name": "stdout",
     "output_type": "stream",
     "text": [
      "test passed\n"
     ]
    },
    {
     "ename": "TypeError",
     "evalue": "unsupported operand type(s) for ** or pow(): 'str' and 'int'",
     "output_type": "error",
     "traceback": [
      "\u001b[0;31m---------------------------------------------------------------------------\u001b[0m",
      "\u001b[0;31mTypeError\u001b[0m                                 Traceback (most recent call last)",
      "\u001b[0;32m<ipython-input-11-380d84960d26>\u001b[0m in \u001b[0;36m<module>\u001b[0;34m()\u001b[0m\n\u001b[1;32m     70\u001b[0m     \u001b[0;32mprint\u001b[0m \u001b[0mfaster_solve\u001b[0m\u001b[0;34m(\u001b[0m\u001b[0;34m'YOU == ME**2'\u001b[0m\u001b[0;34m)\u001b[0m\u001b[0;34m\u001b[0m\u001b[0m\n\u001b[1;32m     71\u001b[0m \u001b[0;34m\u001b[0m\u001b[0m\n\u001b[0;32m---> 72\u001b[0;31m \u001b[0mtest\u001b[0m\u001b[0;34m(\u001b[0m\u001b[0;34m)\u001b[0m\u001b[0;34m\u001b[0m\u001b[0m\n\u001b[0m",
      "\u001b[0;32m<ipython-input-11-380d84960d26>\u001b[0m in \u001b[0;36mtest\u001b[0;34m()\u001b[0m\n\u001b[1;32m     68\u001b[0m     \u001b[0;32mprint\u001b[0m \u001b[0;34m'test passed'\u001b[0m\u001b[0;34m\u001b[0m\u001b[0m\n\u001b[1;32m     69\u001b[0m     \u001b[0;31m#print compile_formula('YOU == ME**2', verbose=True)\u001b[0m\u001b[0;34m\u001b[0m\u001b[0;34m\u001b[0m\u001b[0m\n\u001b[0;32m---> 70\u001b[0;31m     \u001b[0;32mprint\u001b[0m \u001b[0mfaster_solve\u001b[0m\u001b[0;34m(\u001b[0m\u001b[0;34m'YOU == ME**2'\u001b[0m\u001b[0;34m)\u001b[0m\u001b[0;34m\u001b[0m\u001b[0m\n\u001b[0m\u001b[1;32m     71\u001b[0m \u001b[0;34m\u001b[0m\u001b[0m\n\u001b[1;32m     72\u001b[0m \u001b[0mtest\u001b[0m\u001b[0;34m(\u001b[0m\u001b[0;34m)\u001b[0m\u001b[0;34m\u001b[0m\u001b[0m\n",
      "\u001b[0;32m<ipython-input-11-380d84960d26>\u001b[0m in \u001b[0;36mfaster_solve\u001b[0;34m(formula)\u001b[0m\n\u001b[1;32m     22\u001b[0m     \u001b[0;32mfor\u001b[0m \u001b[0mdigits\u001b[0m \u001b[0;32min\u001b[0m \u001b[0mitertools\u001b[0m\u001b[0;34m.\u001b[0m\u001b[0mpermutations\u001b[0m\u001b[0;34m(\u001b[0m\u001b[0;34m'0123456789'\u001b[0m\u001b[0;34m,\u001b[0m \u001b[0mlen\u001b[0m\u001b[0;34m(\u001b[0m\u001b[0mletters\u001b[0m\u001b[0;34m)\u001b[0m\u001b[0;34m)\u001b[0m\u001b[0;34m:\u001b[0m\u001b[0;34m\u001b[0m\u001b[0m\n\u001b[1;32m     23\u001b[0m         \u001b[0;32mtry\u001b[0m\u001b[0;34m:\u001b[0m\u001b[0;34m\u001b[0m\u001b[0m\n\u001b[0;32m---> 24\u001b[0;31m             \u001b[0;32mif\u001b[0m \u001b[0mf\u001b[0m\u001b[0;34m(\u001b[0m\u001b[0;34m*\u001b[0m\u001b[0mdigits\u001b[0m\u001b[0;34m)\u001b[0m \u001b[0;32mis\u001b[0m \u001b[0mTrue\u001b[0m\u001b[0;34m:\u001b[0m\u001b[0;34m\u001b[0m\u001b[0m\n\u001b[0m\u001b[1;32m     25\u001b[0m                 \u001b[0mtable\u001b[0m \u001b[0;34m=\u001b[0m \u001b[0mstring\u001b[0m\u001b[0;34m.\u001b[0m\u001b[0mmaketrans\u001b[0m\u001b[0;34m(\u001b[0m\u001b[0mletters\u001b[0m\u001b[0;34m,\u001b[0m \u001b[0;34m''\u001b[0m\u001b[0;34m.\u001b[0m\u001b[0mjoin\u001b[0m\u001b[0;34m(\u001b[0m\u001b[0mmap\u001b[0m\u001b[0;34m(\u001b[0m\u001b[0mstr\u001b[0m\u001b[0;34m,\u001b[0m \u001b[0mdigits\u001b[0m\u001b[0;34m)\u001b[0m\u001b[0;34m)\u001b[0m\u001b[0;34m)\u001b[0m\u001b[0;34m\u001b[0m\u001b[0m\n\u001b[1;32m     26\u001b[0m                 \u001b[0;32mreturn\u001b[0m \u001b[0mformula\u001b[0m\u001b[0;34m.\u001b[0m\u001b[0mtranslate\u001b[0m\u001b[0;34m(\u001b[0m\u001b[0mtable\u001b[0m\u001b[0;34m)\u001b[0m\u001b[0;34m\u001b[0m\u001b[0m\n",
      "\u001b[0;32m<string>\u001b[0m in \u001b[0;36m<lambda>\u001b[0;34m(Y, M, E, U, O)\u001b[0m\n",
      "\u001b[0;31mTypeError\u001b[0m: unsupported operand type(s) for ** or pow(): 'str' and 'int'"
     ]
    }
   ],
   "source": [
    "## make it eval as a function\n",
    "\n",
    "## e.g YOU == ME ** 2\n",
    "# f = lambda Y, M, E, O, U:(1*U + 10*O + 100*Y) == (1*E + 10*ME)**2\n",
    "\n",
    "\n",
    "# Write a function, compile_word(word), that compiles a word\n",
    "# of UPPERCASE letters as numeric digits. For example:\n",
    "# compile_word('YOU') => '(1*U + 10*O +100*Y)' \n",
    "# Non-uppercase words should remain unchaged.\n",
    "\n",
    "import re\n",
    "\n",
    "def faster_solve(formula):\n",
    "    \"\"\"\n",
    "    Input formula is a string.\n",
    "    Output is a digit-filled string or None\n",
    "    This version precompiles the formula; only one eval per formula\n",
    "    \"\"\"\n",
    "    f, letters = compile_formula(formula)\n",
    "    #for digits in itertools.permutations((0,1,2,3,4,5,6,7,8,9), len(letters)):\n",
    "    for digits in itertools.permutations('0123456789', len(letters)):\n",
    "        try:\n",
    "            if f(*digits) is True:\n",
    "                table = string.maketrans(letters, ''.join(map(str, digits)))\n",
    "                return formula.translate(table)\n",
    "        except ArithmeticError:\n",
    "            pass\n",
    "\n",
    "def compile_word(word):\n",
    "    \"\"\"\n",
    "    compile a word of uppercase letters as numeric digits.\n",
    "    E.g., compile_word('YOU') => '(1*U+10*O+100*Y)'\n",
    "    Non-uppercase words unchanged: compile_word('+') => '+'\n",
    "    \"\"\"\n",
    "    \n",
    "    if word.isupper():\n",
    "        terms = [\"%s*%s\"%(10**i,c ) for (i, c) in enumerate(word[::-1])]\n",
    "        return '(' + '+'.join(terms) + ')'\n",
    "    else:\n",
    "        return word\n",
    "    \n",
    "def compile_formula(formula, verbose = False):\n",
    "    \"\"\"\n",
    "    Compile formula into a function. Also returns letters found, as a str, \n",
    "    in same order as parms of function.\n",
    "    The first digit of a multi-digit number can't be 0.\n",
    "    So if YOU is a word in the formula, and \n",
    "    the function is called with Y equal to 0, it should return False\n",
    "    For example, 'YOU == ME**2' returns\n",
    "    lambda Y,M,E,U,O: Y!= 0 and M! = 0 and ((1*U+10*U+100*Y) == (1*E+10*M)**2)\n",
    "    \"\"\"\n",
    "    letters = ''.join(set(re.findall('[A-Z]', formula)))\n",
    "    firstletters = set(re.findall(r'\\b([A-Z])[A-Z]', formula))\n",
    "    parms = ', '.join(letters)\n",
    "    tokens = map(compile_word, re.split('([A-Z]+)', formula)) \n",
    "    body = ''.join(tokens)\n",
    "    if firstletters:\n",
    "        tests = ' and '.join(L + '!=0' for L in firstletters)\n",
    "        body = '%s and (%s)' %(tests, body)\n",
    "    f = 'lambda %s: %s' %(parms, body)\n",
    "    if verbose: print f\n",
    "    return eval(f), letters\n",
    "\n",
    "def test():\n",
    "    assert compile_word('YOU') == '(1*U+10*O+100*Y)'\n",
    "    assert compile_word('ABBA') == '(1*A+10*B+100*B+1000*A)'\n",
    "    print 'test passed'\n",
    "    #print compile_formula('YOU == ME**2', verbose=True)\n",
    "    print faster_solve('YOU == ME**2')\n",
    "    \n",
    "test()"
   ]
  },
  {
   "cell_type": "markdown",
   "metadata": {},
   "source": [
    "## Floor Puzzle"
   ]
  },
  {
   "cell_type": "code",
   "execution_count": null,
   "metadata": {
    "collapsed": false
   },
   "outputs": [],
   "source": [
    "#------------------\n",
    "# User Instructions\n",
    "#\n",
    "# Hopper, Kay, Liskov, Perlis, and Ritchie live on \n",
    "# different floors of a five-floor apartment building. \n",
    "#\n",
    "# Hopper does not live on the top floor. \n",
    "# Kay does not live on the bottom floor. \n",
    "# Liskov does not live on either the top or the bottom floor. \n",
    "# Perlis lives on a higher floor than does Kay. \n",
    "# Ritchie does not live on a floor adjacent to Liskov's. \n",
    "# Liskov does not live on a floor adjacent to Kay's. \n",
    "# \n",
    "# Where does everyone live?  \n",
    "# \n",
    "# Write a function floor_puzzle() that returns a list of\n",
    "# five floor numbers denoting the floor of Hopper, Kay, \n",
    "# Liskov, Perlis, and Ritchie.\n",
    "\n",
    "import itertools\n",
    "\n",
    "floors = [1, 2, 3, 4, 5]   \n",
    "floors = bottom, _, _, _, top = [1, 2, 3, 4, 5] \n",
    "orderings = list(itertools.permutations(floors))\n",
    "\n",
    "def floor_puzzle():\n",
    "    # Your code here\n",
    "    #floors = bottom, _, _, _, top = [1, 2, 3, 4, 5] \n",
    "    #orderings = list(itertools.permutations(floors))\n",
    "    return next([Hopper, Kay, Liskov, Perlis, Ritchie] \n",
    "                for (Hopper, Kay, Liskov, Perlis, Ritchie) in orderings\n",
    "                    if Hopper is not top\n",
    "                    and Kay is not bottom\n",
    "                    and Liskov is not top\n",
    "                    and Liskov is not bottom\n",
    "                    and Perlis > Kay\n",
    "                    and abs(Ritchie - Liskov) > 1\n",
    "                    and abs(Liskov - Kay) > 1)\n",
    "\n",
    "def floor_puzzle_itr():\n",
    "    return next([Hopper, Kay, Liskov, Perlis, Ritchie] \n",
    "                for (Hopper, Kay, Liskov, Perlis, Ritchie) in orderings\n",
    "                   if Hopper is not top\n",
    "                   if Kay is not bottom\n",
    "                   if Liskov is not top \n",
    "                   if Liskov is not bottom\n",
    "                   if Perlis > Kay\n",
    "                   if abs(Ritchie - Liskov) > 1\n",
    "                   if abs(Liskov - Kay) > 1\n",
    "           )"
   ]
  },
  {
   "cell_type": "code",
   "execution_count": null,
   "metadata": {
    "collapsed": false
   },
   "outputs": [],
   "source": [
    "print floor_puzzle()\n",
    "print floor_puzzle_itr()"
   ]
  },
  {
   "cell_type": "code",
   "execution_count": null,
   "metadata": {
    "collapsed": false
   },
   "outputs": [],
   "source": [
    "## Subpalindrome"
   ]
  },
  {
   "cell_type": "code",
   "execution_count": null,
   "metadata": {
    "collapsed": false
   },
   "outputs": [],
   "source": [
    "# --------------\n",
    "# User Instructions\n",
    "#\n",
    "# Write a function, longest_subpalindrome_slice(text) that takes \n",
    "# a string as input and returns the i and j indices that \n",
    "# correspond to the beginning and end indices of the longest \n",
    "# palindrome in the string. \n",
    "#\n",
    "# Grading Notes:\n",
    "# \n",
    "# You will only be marked correct if your function runs \n",
    "# efficiently enough. We will be measuring efficency by counting\n",
    "# the number of times you access each string. That count must be\n",
    "# below a certain threshold to be marked correct.\n",
    "#\n",
    "# Please do not use regular expressions to solve this quiz!\n",
    "\n",
    "\n",
    "def longest_subpalindrome_slice(text):\n",
    "    \"Return (i, j) such that text[i:j] is the longest palindrome in text.\"\n",
    "    if text == '': return(0,0)\n",
    "    def length(slice): a,b = slice; return b-a\n",
    "    candidates = [grow(text, start, end) \n",
    "                  for start in xrange(len(text))\n",
    "                  for end in (start, start + 1)]\n",
    "    return max(candidates, key = length)\n",
    "    \n",
    "def grow(text, start, end):\n",
    "    \"\"\"\n",
    "    start with a 0- or 1- length palindrome; try to grow a bigger one\n",
    "    \"\"\"\n",
    "    while (start > 0 and end < len(text)\n",
    "           and text[start-1].upper() == text[end].upper()):\n",
    "        start -= 1; end  += 1\n",
    "    return (start, end)\n",
    "    \n",
    "    \n",
    "    \n",
    "def test():\n",
    "    L = longest_subpalindrome_slice\n",
    "    assert L('racecar') == (0, 7)\n",
    "    assert L('Racecar') == (0, 7)\n",
    "    assert L('RacecarX') == (0, 7)\n",
    "    assert L('Race carr') == (7, 9)\n",
    "    assert L('') == (0, 0)\n",
    "    assert L('something rac e car going') == (8,21)\n",
    "    assert L('xxxxx') == (0, 5)\n",
    "    assert L('Mad am I ma dam.') == (0, 15)\n",
    "    return 'tests pass'\n",
    "\n",
    "print test()"
   ]
  },
  {
   "cell_type": "markdown",
   "metadata": {
    "collapsed": true
   },
   "source": [
    "# solution in animation\n",
    "\n",
    "[Explore](http://explord.com/experiments/palindrome/#%5B%5B%22hello%20world%22,%5B%22p%22,0%5D,%5B%22p%22,0.5%5D,%5B%22c%22,0,1,0%5D,%5B%22p%22,1%5D,%5B%22c%22,0,2,0%5D,%5B%22p%22,1.5%5D,%5B%22c%22,1,2,0%5D,%5B%22p%22,2%5D,%5B%22c%22,1,3,0%5D,%5B%22p%22,2.5%5D,%5B%22c%22,2,3,1%5D,%5B%22c%22,1,4,0%5D,%5B%22p%22,3%5D,%5B%22c%22,2,4,0%5D,%5B%22p%22,3.5%5D,%5B%22c%22,3,4,0%5D,%5B%22p%22,4%5D,%5B%22c%22,3,5,0%5D,%5B%22p%22,4.5%5D,%5B%22c%22,4,5,0%5D,%5B%22p%22,5%5D,%5B%22c%22,4,6,0%5D,%5B%22p%22,5.5%5D,%5B%22c%22,5,6,0%5D,%5B%22p%22,6%5D,%5B%22c%22,5,7,0%5D,%5B%22p%22,6.5%5D,%5B%22c%22,6,7,0%5D,%5B%22p%22,7%5D,%5B%22c%22,6,8,0%5D,%5B%22p%22,7.5%5D,%5B%22c%22,7,8,0%5D,%5B%22p%22,8%5D,%5B%22c%22,7,9,0%5D,%5B%22p%22,8.5%5D,%5B%22c%22,8,9,0%5D,%5B%22p%22,9%5D,%5B%22c%22,8,10,0%5D,%5B%22p%22,9.5%5D,%5B%22c%22,9,10,0%5D%5D,%5B%22xxxxxxxxxxx%22,%5B%22p%22,0%5D,%5B%22p%22,0.5%5D,%5B%22c%22,0,1,1%5D,%5B%22p%22,1%5D,%5B%22c%22,0,2,1%5D,%5B%22p%22,1.5%5D,%5B%22c%22,1,2,1%5D,%5B%22c%22,0,3,1%5D,%5B%22p%22,2%5D,%5B%22c%22,1,3,1%5D,%5B%22c%22,0,4,1%5D,%5B%22p%22,2.5%5D,%5B%22c%22,2,3,1%5D,%5B%22c%22,1,4,1%5D,%5B%22c%22,0,5,1%5D,%5B%22p%22,3%5D,%5B%22c%22,2,4,1%5D,%5B%22c%22,1,5,1%5D,%5B%22c%22,0,6,1%5D,%5B%22p%22,3.5%5D,%5B%22c%22,3,4,1%5D,%5B%22c%22,2,5,1%5D,%5B%22c%22,1,6,1%5D,%5B%22c%22,0,7,1%5D,%5B%22p%22,4%5D,%5B%22c%22,3,5,1%5D,%5B%22c%22,2,6,1%5D,%5B%22c%22,1,7,1%5D,%5B%22c%22,0,8,1%5D,%5B%22p%22,4.5%5D,%5B%22c%22,4,5,1%5D,%5B%22c%22,3,6,1%5D,%5B%22c%22,2,7,1%5D,%5B%22c%22,1,8,1%5D,%5B%22c%22,0,9,1%5D,%5B%22p%22,5%5D,%5B%22c%22,4,6,1%5D,%5B%22c%22,3,7,1%5D,%5B%22c%22,2,8,1%5D,%5B%22c%22,1,9,1%5D,%5B%22c%22,0,10,1%5D,%5B%22p%22,5.5%5D,%5B%22c%22,5,6,1%5D,%5B%22c%22,4,7,1%5D,%5B%22c%22,3,8,1%5D,%5B%22c%22,2,9,1%5D,%5B%22c%22,1,10,1%5D,%5B%22p%22,6%5D,%5B%22c%22,5,7,1%5D,%5B%22c%22,4,8,1%5D,%5B%22c%22,3,9,1%5D,%5B%22c%22,2,10,1%5D,%5B%22p%22,6.5%5D,%5B%22c%22,6,7,1%5D,%5B%22c%22,5,8,1%5D,%5B%22c%22,4,9,1%5D,%5B%22c%22,3,10,1%5D,%5B%22p%22,7%5D,%5B%22c%22,6,8,1%5D,%5B%22c%22,5,9,1%5D,%5B%22c%22,4,10,1%5D,%5B%22p%22,7.5%5D,%5B%22c%22,7,8,1%5D,%5B%22c%22,6,9,1%5D,%5B%22c%22,5,10,1%5D,%5B%22p%22,8%5D,%5B%22c%22,7,9,1%5D,%5B%22c%22,6,10,1%5D,%5B%22p%22,8.5%5D,%5B%22c%22,8,9,1%5D,%5B%22c%22,7,10,1%5D,%5B%22p%22,9%5D,%5B%22c%22,8,10,1%5D,%5B%22p%22,9.5%5D,%5B%22c%22,9,10,1%5D%5D%5D)"
   ]
  },
  {
   "cell_type": "code",
   "execution_count": null,
   "metadata": {
    "collapsed": true
   },
   "outputs": [],
   "source": []
  }
 ],
 "metadata": {
  "kernelspec": {
   "display_name": "Python 2",
   "language": "python",
   "name": "python2"
  },
  "language_info": {
   "codemirror_mode": {
    "name": "ipython",
    "version": 2
   },
   "file_extension": ".py",
   "mimetype": "text/x-python",
   "name": "python",
   "nbconvert_exporter": "python",
   "pygments_lexer": "ipython2",
   "version": "2.7.10"
  }
 },
 "nbformat": 4,
 "nbformat_minor": 0
}
